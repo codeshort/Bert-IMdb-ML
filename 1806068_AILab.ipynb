{
  "nbformat": 4,
  "nbformat_minor": 0,
  "metadata": {
    "colab": {
      "name": "1806068_AILab.ipynb",
      "provenance": [],
      "toc_visible": true,
      "include_colab_link": true
    },
    "kernelspec": {
      "display_name": "Python 3",
      "language": "python",
      "name": "python3"
    },
    "language_info": {
      "codemirror_mode": {
        "name": "ipython",
        "version": 3
      },
      "file_extension": ".py",
      "mimetype": "text/x-python",
      "name": "python",
      "nbconvert_exporter": "python",
      "pygments_lexer": "ipython3",
      "version": "3.7.4"
    }
  },
  "cells": [
    {
      "cell_type": "markdown",
      "metadata": {
        "id": "view-in-github",
        "colab_type": "text"
      },
      "source": [
        "<a href=\"https://colab.research.google.com/github/codeshort/Bert-IMdb-ML/blob/master/1806068_AILab.ipynb\" target=\"_parent\"><img src=\"https://colab.research.google.com/assets/colab-badge.svg\" alt=\"Open In Colab\"/></a>"
      ]
    },
    {
      "cell_type": "markdown",
      "metadata": {
        "id": "pw6mo2u-4lrD"
      },
      "source": [
        "# roll = 1806068\n",
        "# name = Jaya Singh\n",
        "Importing libraries"
      ]
    },
    {
      "cell_type": "code",
      "metadata": {
        "id": "tCGEr5cagrFq"
      },
      "source": [
        "import numpy as np\n",
        "import pandas as pd\n",
        "from sklearn.model_selection import train_test_split\n",
        "from sklearn import metrics \n",
        "from sklearn.metrics import classification_report"
      ],
      "execution_count": 4,
      "outputs": []
    },
    {
      "cell_type": "markdown",
      "metadata": {
        "id": "vBLhnQkq4SCS"
      },
      "source": [
        "Fetching the dataset"
      ]
    },
    {
      "cell_type": "code",
      "metadata": {
        "id": "0ItISxIXhPYm"
      },
      "source": [
        "data = pd.read_csv(\"severity.csv\")"
      ],
      "execution_count": 5,
      "outputs": []
    },
    {
      "cell_type": "code",
      "metadata": {
        "id": "AD73Pn7qhaXk"
      },
      "source": [
        "X = data.drop('severity',axis = 1)\n",
        "y = data['severity']"
      ],
      "execution_count": 6,
      "outputs": []
    },
    {
      "cell_type": "code",
      "metadata": {
        "colab": {
          "base_uri": "https://localhost:8080/"
        },
        "id": "c4O0E-hvhe4I",
        "outputId": "4b440389-d6bc-4045-f73e-1c766dfadb41"
      },
      "source": [
        "data['severity'].unique()"
      ],
      "execution_count": 7,
      "outputs": [
        {
          "output_type": "execute_result",
          "data": {
            "text/plain": [
              "array([2, 1, 0, 3])"
            ]
          },
          "metadata": {
            "tags": []
          },
          "execution_count": 7
        }
      ]
    },
    {
      "cell_type": "markdown",
      "metadata": {
        "id": "zdOL25k64utb"
      },
      "source": [
        "splitting the dataset into train and test"
      ]
    },
    {
      "cell_type": "code",
      "metadata": {
        "id": "zW1djINglgBb"
      },
      "source": [
        "\n",
        "# 30% examples in test data\n",
        "X_train, X_test, y_train, y_test = train_test_split(X, y, test_size = 0.25,stratify=y, random_state = 13)\n"
      ],
      "execution_count": 10,
      "outputs": []
    },
    {
      "cell_type": "code",
      "metadata": {
        "colab": {
          "base_uri": "https://localhost:8080/"
        },
        "id": "XBDLJG8YlgBc",
        "outputId": "cf92ee4b-6af7-4a20-94b1-338a1ef11237"
      },
      "source": [
        "from sklearn.ensemble import RandomForestClassifier\n",
        "\n",
        "# Creating the model\n",
        "model = RandomForestClassifier(n_estimators=90 ,\n",
        "                               bootstrap = True,\n",
        "                               max_features = 'sqrt')\n",
        "# Fit on training data\n",
        "model.fit(X_train,y_train)\n",
        "\n",
        "\n",
        "# Actual class predictions\n",
        "rf_predictions = model.predict(X_test)\n",
        "\n",
        "\n",
        "\n",
        "# getting the accuracy\n",
        "\n",
        "print(\"Accuracy:\",metrics.accuracy_score(rf_predictions,y_test )) \n",
        "\n",
        "print(classification_report(y_test, rf_predictions))"
      ],
      "execution_count": 11,
      "outputs": [
        {
          "output_type": "stream",
          "text": [
            "Accuracy: 0.6270491803278688\n",
            "              precision    recall  f1-score   support\n",
            "\n",
            "           0       1.00      1.00      1.00        52\n",
            "           1       0.44      0.25      0.32        32\n",
            "           2       0.55      0.63      0.59        86\n",
            "           3       0.51      0.53      0.52        74\n",
            "\n",
            "    accuracy                           0.63       244\n",
            "   macro avg       0.63      0.60      0.61       244\n",
            "weighted avg       0.62      0.63      0.62       244\n",
            "\n"
          ],
          "name": "stdout"
        }
      ]
    }
  ]
}