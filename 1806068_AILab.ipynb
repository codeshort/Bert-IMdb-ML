{
  "nbformat": 4,
  "nbformat_minor": 0,
  "metadata": {
    "colab": {
      "name": "1806068_AILab.ipynb",
      "provenance": [],
      "toc_visible": true,
      "include_colab_link": true
    },
    "kernelspec": {
      "display_name": "Python 3",
      "language": "python",
      "name": "python3"
    },
    "language_info": {
      "codemirror_mode": {
        "name": "ipython",
        "version": 3
      },
      "file_extension": ".py",
      "mimetype": "text/x-python",
      "name": "python",
      "nbconvert_exporter": "python",
      "pygments_lexer": "ipython3",
      "version": "3.7.4"
    }
  },
  "cells": [
    {
      "cell_type": "markdown",
      "metadata": {
        "id": "view-in-github",
        "colab_type": "text"
      },
      "source": [
        "<a href=\"https://colab.research.google.com/github/codeshort/Bert-IMdb-ML/blob/master/1806068_AILab.ipynb\" target=\"_parent\"><img src=\"https://colab.research.google.com/assets/colab-badge.svg\" alt=\"Open In Colab\"/></a>"
      ]
    },
    {
      "cell_type": "markdown",
      "metadata": {
        "id": "pw6mo2u-4lrD"
      },
      "source": [
        "# roll = 1806068\n",
        "# name = Jaya Singh\n",
        "Importing libraries"
      ]
    },
    {
      "cell_type": "code",
      "metadata": {
        "id": "tCGEr5cagrFq"
      },
      "source": [
        "import numpy as np\n",
        "import pandas as pd\n",
        "from sklearn.model_selection import train_test_split\n",
        "from sklearn import metrics \n",
        "from sklearn.metrics import classification_report"
      ],
      "execution_count": 142,
      "outputs": []
    },
    {
      "cell_type": "markdown",
      "metadata": {
        "id": "vBLhnQkq4SCS"
      },
      "source": [
        "Fetching the dataset"
      ]
    },
    {
      "cell_type": "code",
      "metadata": {
        "id": "0ItISxIXhPYm"
      },
      "source": [
        "data = pd.read_csv(\"severity.csv\")"
      ],
      "execution_count": 143,
      "outputs": []
    },
    {
      "cell_type": "code",
      "metadata": {
        "id": "AD73Pn7qhaXk"
      },
      "source": [
        "X = data.drop('severity',axis = 1)\n",
        "y = data['severity']"
      ],
      "execution_count": 144,
      "outputs": []
    },
    {
      "cell_type": "code",
      "metadata": {
        "colab": {
          "base_uri": "https://localhost:8080/"
        },
        "id": "c4O0E-hvhe4I",
        "outputId": "30838d37-61e7-4cb9-de01-e11037bede80"
      },
      "source": [
        "data['severity'].unique()"
      ],
      "execution_count": 145,
      "outputs": [
        {
          "output_type": "execute_result",
          "data": {
            "text/plain": [
              "array([2, 1, 0, 3])"
            ]
          },
          "metadata": {
            "tags": []
          },
          "execution_count": 145
        }
      ]
    },
    {
      "cell_type": "markdown",
      "metadata": {
        "id": "zdOL25k64utb"
      },
      "source": [
        "splitting the dataset into train and test"
      ]
    },
    {
      "cell_type": "code",
      "metadata": {
        "id": "zW1djINglgBb"
      },
      "source": [
        "\n",
        "# 25% examples in test data\n",
        "X_train, X_test, y_train, y_test = train_test_split(X, y, test_size = 0.20,stratify=y, random_state = 20)\n"
      ],
      "execution_count": 146,
      "outputs": []
    },
    {
      "cell_type": "code",
      "metadata": {
        "colab": {
          "base_uri": "https://localhost:8080/"
        },
        "id": "XBDLJG8YlgBc",
        "outputId": "6fd5f3f7-9a1b-4e4f-89b4-c0b57c28f273"
      },
      "source": [
        "from sklearn.ensemble import RandomForestClassifier\n",
        "\n",
        "\n",
        "# Creating the model\n",
        "model = RandomForestClassifier(random_state=1,n_estimators=900,max_depth= 30,min_samples_split=20,min_samples_leaf =2)\n",
        "# Fit on training data\n",
        "model.fit(X_train,y_train)\n",
        "\n",
        "\n",
        "# Actual class predictions\n",
        "rf_predictions = model.predict(X_test)\n",
        "\n",
        "\n",
        "\n",
        "# getting the accuracy\n",
        "\n",
        "print(\"Accuracy:\",metrics.accuracy_score(rf_predictions,y_test )) \n",
        "\n",
        "print(classification_report(y_test, rf_predictions))"
      ],
      "execution_count": 162,
      "outputs": [
        {
          "output_type": "stream",
          "text": [
            "Accuracy: 0.6256410256410256\n",
            "              precision    recall  f1-score   support\n",
            "\n",
            "           0       1.00      1.00      1.00        42\n",
            "           1       0.67      0.16      0.26        25\n",
            "           2       0.50      0.68      0.58        69\n",
            "           3       0.55      0.49      0.52        59\n",
            "\n",
            "    accuracy                           0.63       195\n",
            "   macro avg       0.68      0.58      0.59       195\n",
            "weighted avg       0.64      0.63      0.61       195\n",
            "\n"
          ],
          "name": "stdout"
        }
      ]
    },
    {
      "cell_type": "code",
      "metadata": {
        "id": "b2f7GT2L8jcw"
      },
      "source": [
        ""
      ],
      "execution_count": 158,
      "outputs": []
    }
  ]
}